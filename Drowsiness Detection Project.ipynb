{
 "cells": [
  {
   "cell_type": "code",
   "execution_count": 1,
   "id": "2cd6c2ae",
   "metadata": {},
   "outputs": [
    {
     "name": "stdout",
     "output_type": "stream",
     "text": [
      "pygame 2.0.2 (SDL 2.0.16, Python 3.9.1)\n",
      "Hello from the pygame community. https://www.pygame.org/contribute.html\n"
     ]
    }
   ],
   "source": [
    "import numpy as np\n",
    "import cv2\n",
    "from imutils import face_utils\n",
    "import dlib\n",
    "from keras.models import Model, load_model\n",
    "import winsound\n",
    "from pygame import mixer\n",
    "mixer.init()\n",
    "sound = mixer.Sound('clock03.wav')\n",
    "\n",
    "detector = dlib.get_frontal_face_detector()\n",
    "predictor = dlib.shape_predictor('shape_predictor_68_face_landmarks.dat')\n",
    "img_dim=(34,26)"
   ]
  },
  {
   "cell_type": "code",
   "execution_count": 2,
   "id": "2878871b",
   "metadata": {},
   "outputs": [],
   "source": [
    "def crop_eyes(img,points):\n",
    "    x1, y1 = np.amin(points, axis=0)\n",
    "    x2, y2 = np.amax(points, axis=0)\n",
    "    cx, cy = (x1 + x2) / 2, (y1 + y2) / 2\n",
    "    \n",
    "    w = (x2 - x1) * 1.2\n",
    "    h = w * img_dim[1] / img_dim[0]\n",
    "\n",
    "    dx, dy = w / 2, h / 2\n",
    "    \n",
    "    min_x, min_y = int(cx - dx), int(cy - dy)\n",
    "    max_x, max_y = int(cx + dx), int(cy + dy)\n",
    "    eye_img=img[min_y:max_y,min_x:max_x] # input model\n",
    "    rect_cord=[min_x,min_y,max_x,max_y]  # display eye\n",
    "    \n",
    "    return eye_img,rect_cord\n",
    "\n",
    "    "
   ]
  },
  {
   "cell_type": "code",
   "execution_count": 3,
   "id": "e5f11b52",
   "metadata": {},
   "outputs": [],
   "source": [
    "model=load_model('BlinkModel.h5')\n"
   ]
  },
  {
   "cell_type": "code",
   "execution_count": 6,
   "id": "a7c883b8",
   "metadata": {},
   "outputs": [],
   "source": [
    "cap = cv2.VideoCapture(0)\n",
    "counter=0\n",
    "while True:\n",
    "    \n",
    "    ret, img = cap.read()\n",
    "    if not ret:\n",
    "        continue\n",
    "    gray = cv2.cvtColor(img, cv2.COLOR_BGR2GRAY)\n",
    "    faces = detector(gray)\n",
    "    for face in faces:\n",
    "        shapes = predictor(gray, face)\n",
    "        shapes = face_utils.shape_to_np(shapes)\n",
    "        lefteye,leftRect=crop_eyes(gray, shapes[36:42])\n",
    "        righteye,rightRect=crop_eyes(gray, shapes[42:48])\n",
    "\n",
    "        righteye=cv2.flip(righteye, flipCode=1)\n",
    "        \n",
    "        lefteye=cv2.resize(lefteye,img_dim,interpolation= cv2.INTER_LINEAR)\n",
    "        righteye=cv2.resize(righteye,img_dim,interpolation= cv2.INTER_LINEAR)\n",
    "        \n",
    "        lefteye=lefteye.reshape(1, img_dim[1], img_dim[0], 1)/255.\n",
    "        righteye=righteye.reshape(1, img_dim[1], img_dim[0], 1)/255.\n",
    "\n",
    "    \n",
    "        left_pred=model(lefteye)\n",
    "        right_pred=model(righteye)\n",
    "\n",
    "        state_l = 'Close' if left_pred <.1 else 'Open'\n",
    "        state_r = 'Close' if right_pred <.1 else 'Open'\n",
    "\n",
    "\n",
    "        \n",
    "        cv2.rectangle(img, (leftRect[0],leftRect[1]), (leftRect[2],leftRect[3]), (0,100,255), 2)\n",
    "        cv2.rectangle(img, (rightRect[0],rightRect[1]), (rightRect[2],rightRect[3]), (0,100,255), 2)\n",
    "        \n",
    "        if state_l =='Close' and state_r=='Close':\n",
    "            counter+=1\n",
    "            if counter==20:\n",
    "                sound.play()\n",
    "#                 sound.play(-1)\n",
    "#                 k=cv2.waitKey()\n",
    "#                 if k==115:\n",
    "#                     sound.stop()\n",
    "        else:\n",
    "            counter=0\n",
    "        \n",
    "            \n",
    "            \n",
    "        if state_l=='Close':\n",
    "            cv2.putText(img, 'Close', tuple(leftRect[0:2]), cv2.FONT_HERSHEY_SIMPLEX, 0.7, (0,0,255), 2)\n",
    "        else:\n",
    "            cv2.putText(img, 'Open', tuple(leftRect[0:2]), cv2.FONT_HERSHEY_SIMPLEX, 0.7, (0,255,0), 2)\n",
    "            \n",
    "        if state_r=='Close':\n",
    "            cv2.putText(img, 'Close', tuple(rightRect[0:2]), cv2.FONT_HERSHEY_SIMPLEX, 0.7, (0,0,255), 2)\n",
    "        else:\n",
    "            cv2.putText(img, 'Open', tuple(rightRect[0:2]), cv2.FONT_HERSHEY_SIMPLEX, 0.7, (0,255,0), 2)\n",
    "\n",
    "    \n",
    "        \n",
    "        \n",
    "\n",
    "        \n",
    "        \n",
    "    cv2.imshow('img',img)\n",
    "    if cv2.waitKey(30)==13:\n",
    "        break\n",
    "cap.release()\n",
    "cv2.destroyAllWindows()"
   ]
  },
  {
   "cell_type": "code",
   "execution_count": null,
   "id": "2798dafd",
   "metadata": {},
   "outputs": [],
   "source": []
  }
 ],
 "metadata": {
  "kernelspec": {
   "display_name": "Python 3 (ipykernel)",
   "language": "python",
   "name": "python3"
  },
  "language_info": {
   "codemirror_mode": {
    "name": "ipython",
    "version": 3
   },
   "file_extension": ".py",
   "mimetype": "text/x-python",
   "name": "python",
   "nbconvert_exporter": "python",
   "pygments_lexer": "ipython3",
   "version": "3.9.1"
  }
 },
 "nbformat": 4,
 "nbformat_minor": 5
}
