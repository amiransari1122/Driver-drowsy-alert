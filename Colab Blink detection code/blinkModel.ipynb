{
  "nbformat": 4,
  "nbformat_minor": 0,
  "metadata": {
    "colab": {
      "name": "blinkModel",
      "provenance": [],
      "collapsed_sections": []
    },
    "kernelspec": {
      "name": "python3",
      "display_name": "Python 3"
    },
    "language_info": {
      "name": "python"
    }
  },
  "cells": [
    {
      "cell_type": "code",
      "metadata": {
        "id": "4KdHlXlzpMKT"
      },
      "source": [
        "from keras.layers import Input, Activation, Conv2D, Flatten, Dense, MaxPooling2D\n",
        "from keras.models import Model, load_model\n",
        "from keras.preprocessing.image import ImageDataGenerator\n",
        "from keras.callbacks import ModelCheckpoint, ReduceLROnPlateau\n",
        "from IPython.display import Image\n",
        "import cv2\n",
        "import numpy as np\n",
        "from google.colab.patches import cv2_imshow\n",
        "from imutils import face_utils\n",
        "import dlib\n",
        "x_train=(np.load('./x_train.npy'))\n",
        "y_train=(np.load('./y_train.npy'))\n",
        "x_val=(np.load('./x_val.npy'))\n",
        "y_val=(np.load('./y_val.npy'))\n"
      ],
      "execution_count": null,
      "outputs": []
    },
    {
      "cell_type": "code",
      "metadata": {
        "id": "ce8qHzmRRMRl"
      },
      "source": [
        "train_datagen = ImageDataGenerator(\n",
        "    rescale=1./255,\n",
        "    rotation_range=10,\n",
        "    width_shift_range=0.2,\n",
        "    height_shift_range=0.2,\n",
        "    shear_range=0.2\n",
        ")\n",
        "\n",
        "val_datagen = ImageDataGenerator(rescale=1./255)\n",
        "\n",
        "train_generator = train_datagen.flow(\n",
        "    x=x_train, y=y_train,\n",
        "    batch_size=32,\n",
        "    shuffle=True\n",
        ")\n",
        "\n",
        "val_generator = val_datagen.flow(\n",
        "    x=x_val, y=y_val,\n",
        "    batch_size=32,\n",
        "    shuffle=False\n",
        ")"
      ],
      "execution_count": null,
      "outputs": []
    },
    {
      "cell_type": "code",
      "metadata": {
        "colab": {
          "base_uri": "https://localhost:8080/"
        },
        "id": "SQXNRrInR8Ca",
        "outputId": "6938fa6f-7b67-4e42-a486-4eafe80f8915"
      },
      "source": [
        "inputs = Input(shape=(26, 34, 1))\n",
        "\n",
        "net = Conv2D(32, kernel_size=3, strides=1, padding='same', activation='relu')(inputs)\n",
        "net = MaxPooling2D(pool_size=2)(net)\n",
        "\n",
        "net = Conv2D(64, kernel_size=3, strides=1, padding='same', activation='relu')(net)\n",
        "net = MaxPooling2D(pool_size=2)(net)\n",
        "\n",
        "net = Conv2D(128, kernel_size=3, strides=1, padding='same', activation='relu')(net)\n",
        "net = MaxPooling2D(pool_size=2)(net)\n",
        "\n",
        "net = Flatten()(net)\n",
        "\n",
        "net = Dense(512)(net)\n",
        "net = Activation('relu')(net)\n",
        "net = Dense(1)(net)\n",
        "outputs = Activation('sigmoid')(net)\n",
        "\n",
        "model = Model(inputs=inputs, outputs=outputs)\n",
        "\n",
        "model.compile(optimizer='adam', loss='binary_crossentropy', metrics=['acc'])\n",
        "\n",
        "model.summary()"
      ],
      "execution_count": null,
      "outputs": [
        {
          "output_type": "stream",
          "name": "stdout",
          "text": [
            "Model: \"model\"\n",
            "_________________________________________________________________\n",
            "Layer (type)                 Output Shape              Param #   \n",
            "=================================================================\n",
            "input_1 (InputLayer)         [(None, 26, 34, 1)]       0         \n",
            "_________________________________________________________________\n",
            "conv2d (Conv2D)              (None, 26, 34, 32)        320       \n",
            "_________________________________________________________________\n",
            "max_pooling2d (MaxPooling2D) (None, 13, 17, 32)        0         \n",
            "_________________________________________________________________\n",
            "conv2d_1 (Conv2D)            (None, 13, 17, 64)        18496     \n",
            "_________________________________________________________________\n",
            "max_pooling2d_1 (MaxPooling2 (None, 6, 8, 64)          0         \n",
            "_________________________________________________________________\n",
            "conv2d_2 (Conv2D)            (None, 6, 8, 128)         73856     \n",
            "_________________________________________________________________\n",
            "max_pooling2d_2 (MaxPooling2 (None, 3, 4, 128)         0         \n",
            "_________________________________________________________________\n",
            "flatten (Flatten)            (None, 1536)              0         \n",
            "_________________________________________________________________\n",
            "dense (Dense)                (None, 512)               786944    \n",
            "_________________________________________________________________\n",
            "activation (Activation)      (None, 512)               0         \n",
            "_________________________________________________________________\n",
            "dense_1 (Dense)              (None, 1)                 513       \n",
            "_________________________________________________________________\n",
            "activation_1 (Activation)    (None, 1)                 0         \n",
            "=================================================================\n",
            "Total params: 880,129\n",
            "Trainable params: 880,129\n",
            "Non-trainable params: 0\n",
            "_________________________________________________________________\n"
          ]
        }
      ]
    },
    {
      "cell_type": "code",
      "metadata": {
        "id": "7kqAz0oX4eLi",
        "colab": {
          "base_uri": "https://localhost:8080/"
        },
        "outputId": "652e0091-14af-4d30-f601-4afcdecb4269"
      },
      "source": [
        "model.fit_generator(\n",
        "    train_generator, epochs=50, validation_data=val_generator,)"
      ],
      "execution_count": null,
      "outputs": [
        {
          "output_type": "stream",
          "name": "stderr",
          "text": [
            "/usr/local/lib/python3.7/dist-packages/keras/engine/training.py:1972: UserWarning: `Model.fit_generator` is deprecated and will be removed in a future version. Please use `Model.fit`, which supports generators.\n",
            "  warnings.warn('`Model.fit_generator` is deprecated and '\n"
          ]
        },
        {
          "output_type": "stream",
          "name": "stdout",
          "text": [
            "Epoch 1/50\n",
            "81/81 [==============================] - 7s 70ms/step - loss: 0.5027 - acc: 0.7309 - val_loss: 0.2907 - val_acc: 0.8854\n",
            "Epoch 2/50\n",
            "81/81 [==============================] - 5s 67ms/step - loss: 0.2953 - acc: 0.8739 - val_loss: 0.1672 - val_acc: 0.9167\n",
            "Epoch 3/50\n",
            "81/81 [==============================] - 6s 68ms/step - loss: 0.1739 - acc: 0.9362 - val_loss: 0.1417 - val_acc: 0.9375\n",
            "Epoch 4/50\n",
            "81/81 [==============================] - 5s 67ms/step - loss: 0.1510 - acc: 0.9428 - val_loss: 0.1510 - val_acc: 0.9549\n",
            "Epoch 5/50\n",
            "81/81 [==============================] - 5s 67ms/step - loss: 0.1361 - acc: 0.9540 - val_loss: 0.0731 - val_acc: 0.9896\n",
            "Epoch 6/50\n",
            "81/81 [==============================] - 5s 68ms/step - loss: 0.1316 - acc: 0.9536 - val_loss: 0.0654 - val_acc: 0.9757\n",
            "Epoch 7/50\n",
            "81/81 [==============================] - 5s 68ms/step - loss: 0.1146 - acc: 0.9590 - val_loss: 0.0706 - val_acc: 0.9722\n",
            "Epoch 8/50\n",
            "81/81 [==============================] - 5s 67ms/step - loss: 0.0863 - acc: 0.9733 - val_loss: 0.0640 - val_acc: 0.9792\n",
            "Epoch 9/50\n",
            "81/81 [==============================] - 5s 67ms/step - loss: 0.0819 - acc: 0.9749 - val_loss: 0.0349 - val_acc: 0.9931\n",
            "Epoch 10/50\n",
            "81/81 [==============================] - 5s 68ms/step - loss: 0.0751 - acc: 0.9722 - val_loss: 0.0517 - val_acc: 0.9896\n",
            "Epoch 11/50\n",
            "81/81 [==============================] - 5s 67ms/step - loss: 0.0723 - acc: 0.9745 - val_loss: 0.0286 - val_acc: 0.9896\n",
            "Epoch 12/50\n",
            "81/81 [==============================] - 6s 68ms/step - loss: 0.0568 - acc: 0.9818 - val_loss: 0.0742 - val_acc: 0.9722\n",
            "Epoch 13/50\n",
            "81/81 [==============================] - 5s 68ms/step - loss: 0.0669 - acc: 0.9787 - val_loss: 0.0439 - val_acc: 0.9861\n",
            "Epoch 14/50\n",
            "81/81 [==============================] - 5s 67ms/step - loss: 0.0487 - acc: 0.9865 - val_loss: 0.0508 - val_acc: 0.9757\n",
            "Epoch 15/50\n",
            "81/81 [==============================] - 5s 67ms/step - loss: 0.0655 - acc: 0.9783 - val_loss: 0.0307 - val_acc: 0.9861\n",
            "Epoch 16/50\n",
            "81/81 [==============================] - 5s 68ms/step - loss: 0.0430 - acc: 0.9892 - val_loss: 0.0285 - val_acc: 0.9896\n",
            "Epoch 17/50\n",
            "81/81 [==============================] - 5s 67ms/step - loss: 0.0470 - acc: 0.9830 - val_loss: 0.0333 - val_acc: 0.9896\n",
            "Epoch 18/50\n",
            "81/81 [==============================] - 5s 67ms/step - loss: 0.0529 - acc: 0.9826 - val_loss: 0.0292 - val_acc: 0.9931\n",
            "Epoch 19/50\n",
            "81/81 [==============================] - 5s 68ms/step - loss: 0.0368 - acc: 0.9880 - val_loss: 0.0217 - val_acc: 0.9896\n",
            "Epoch 20/50\n",
            "81/81 [==============================] - 5s 67ms/step - loss: 0.0399 - acc: 0.9865 - val_loss: 0.0169 - val_acc: 0.9931\n",
            "Epoch 21/50\n",
            "81/81 [==============================] - 5s 67ms/step - loss: 0.0387 - acc: 0.9872 - val_loss: 0.0176 - val_acc: 0.9896\n",
            "Epoch 22/50\n",
            "81/81 [==============================] - 5s 68ms/step - loss: 0.0364 - acc: 0.9880 - val_loss: 0.0277 - val_acc: 0.9896\n",
            "Epoch 23/50\n",
            "81/81 [==============================] - 5s 68ms/step - loss: 0.0302 - acc: 0.9915 - val_loss: 0.0227 - val_acc: 0.9896\n",
            "Epoch 24/50\n",
            "81/81 [==============================] - 6s 68ms/step - loss: 0.0276 - acc: 0.9896 - val_loss: 0.0319 - val_acc: 0.9861\n",
            "Epoch 25/50\n",
            "81/81 [==============================] - 5s 68ms/step - loss: 0.0273 - acc: 0.9899 - val_loss: 0.0223 - val_acc: 0.9931\n",
            "Epoch 26/50\n",
            "81/81 [==============================] - 5s 68ms/step - loss: 0.0233 - acc: 0.9915 - val_loss: 0.0090 - val_acc: 0.9965\n",
            "Epoch 27/50\n",
            "81/81 [==============================] - 5s 67ms/step - loss: 0.0227 - acc: 0.9927 - val_loss: 0.0227 - val_acc: 0.9896\n",
            "Epoch 28/50\n",
            "81/81 [==============================] - 5s 68ms/step - loss: 0.0139 - acc: 0.9950 - val_loss: 0.0023 - val_acc: 1.0000\n",
            "Epoch 29/50\n",
            "81/81 [==============================] - 5s 68ms/step - loss: 0.0329 - acc: 0.9884 - val_loss: 0.0137 - val_acc: 1.0000\n",
            "Epoch 30/50\n",
            "81/81 [==============================] - 5s 67ms/step - loss: 0.0160 - acc: 0.9942 - val_loss: 0.0050 - val_acc: 0.9965\n",
            "Epoch 31/50\n",
            "81/81 [==============================] - 5s 67ms/step - loss: 0.0348 - acc: 0.9892 - val_loss: 0.0085 - val_acc: 0.9965\n",
            "Epoch 32/50\n",
            "81/81 [==============================] - 5s 67ms/step - loss: 0.0259 - acc: 0.9927 - val_loss: 0.0158 - val_acc: 0.9931\n",
            "Epoch 33/50\n",
            "81/81 [==============================] - 6s 68ms/step - loss: 0.0182 - acc: 0.9927 - val_loss: 0.0076 - val_acc: 0.9965\n",
            "Epoch 34/50\n",
            "81/81 [==============================] - 5s 68ms/step - loss: 0.0141 - acc: 0.9950 - val_loss: 0.0035 - val_acc: 1.0000\n",
            "Epoch 35/50\n",
            "81/81 [==============================] - 5s 68ms/step - loss: 0.0181 - acc: 0.9927 - val_loss: 0.0033 - val_acc: 1.0000\n",
            "Epoch 36/50\n",
            "81/81 [==============================] - 5s 68ms/step - loss: 0.0137 - acc: 0.9946 - val_loss: 0.0077 - val_acc: 0.9965\n",
            "Epoch 37/50\n",
            "81/81 [==============================] - 6s 68ms/step - loss: 0.0184 - acc: 0.9930 - val_loss: 0.0185 - val_acc: 0.9931\n",
            "Epoch 38/50\n",
            "81/81 [==============================] - 5s 67ms/step - loss: 0.0205 - acc: 0.9915 - val_loss: 0.0624 - val_acc: 0.9826\n",
            "Epoch 39/50\n",
            "81/81 [==============================] - 6s 68ms/step - loss: 0.0158 - acc: 0.9954 - val_loss: 0.0050 - val_acc: 0.9965\n",
            "Epoch 40/50\n",
            "81/81 [==============================] - 5s 67ms/step - loss: 0.0148 - acc: 0.9954 - val_loss: 0.0122 - val_acc: 0.9931\n",
            "Epoch 41/50\n",
            "81/81 [==============================] - 6s 68ms/step - loss: 0.0167 - acc: 0.9946 - val_loss: 0.0189 - val_acc: 0.9931\n",
            "Epoch 42/50\n",
            "81/81 [==============================] - 6s 68ms/step - loss: 0.0088 - acc: 0.9969 - val_loss: 0.0256 - val_acc: 0.9931\n",
            "Epoch 43/50\n",
            "81/81 [==============================] - 5s 67ms/step - loss: 0.0172 - acc: 0.9946 - val_loss: 0.0168 - val_acc: 0.9965\n",
            "Epoch 44/50\n",
            "81/81 [==============================] - 5s 67ms/step - loss: 0.0124 - acc: 0.9946 - val_loss: 0.0085 - val_acc: 0.9965\n",
            "Epoch 45/50\n",
            "81/81 [==============================] - 5s 68ms/step - loss: 0.0136 - acc: 0.9942 - val_loss: 0.0078 - val_acc: 1.0000\n",
            "Epoch 46/50\n",
            "81/81 [==============================] - 5s 67ms/step - loss: 0.0248 - acc: 0.9927 - val_loss: 0.0136 - val_acc: 0.9965\n",
            "Epoch 47/50\n",
            "81/81 [==============================] - 5s 67ms/step - loss: 0.0163 - acc: 0.9950 - val_loss: 0.0131 - val_acc: 0.9965\n",
            "Epoch 48/50\n",
            "81/81 [==============================] - 5s 68ms/step - loss: 0.0183 - acc: 0.9946 - val_loss: 0.0096 - val_acc: 0.9965\n",
            "Epoch 49/50\n",
            "81/81 [==============================] - 5s 68ms/step - loss: 0.0189 - acc: 0.9942 - val_loss: 0.0293 - val_acc: 0.9896\n",
            "Epoch 50/50\n",
            "81/81 [==============================] - 6s 68ms/step - loss: 0.0123 - acc: 0.9961 - val_loss: 0.0025 - val_acc: 1.0000\n"
          ]
        },
        {
          "output_type": "execute_result",
          "data": {
            "text/plain": [
              "<keras.callbacks.History at 0x7f085cf0d050>"
            ]
          },
          "metadata": {},
          "execution_count": 144
        }
      ]
    },
    {
      "cell_type": "code",
      "metadata": {
        "id": "gIZy2TZDUd2y"
      },
      "source": [
        ""
      ],
      "execution_count": null,
      "outputs": []
    },
    {
      "cell_type": "code",
      "metadata": {
        "id": "iCaYt3NX2EFC"
      },
      "source": [
        "class CustomDataSet(Dataset):\n",
        "  def __init__(self, x, y, transform=None):\n",
        "    self.transform = transform\n",
        "    self.X=x\n",
        "    self.Y=y\n",
        "\n",
        "  def __len__(self):\n",
        "        return len(self.X)\n",
        "\n",
        "  def __getitem__(self, idx):\n",
        "        data = self.X[idx]\n",
        "        data=Image.fromarray(np.squeeze(data, axis=2))\n",
        "        data=data.convert('L')\n",
        "        label = self.Y[idx]\n",
        "\n",
        "        if self.transform:\n",
        "            img_as_tensor = self.transform(data)\n",
        "\n",
        "        return (img_as_tensor,label)\n",
        "\n",
        "train_dataset=CustomDataSet(x_train,y_train,data_transform)\n",
        "train_loader = DataLoader(dataset=train_dataset,batch_size=64,shuffle=True)\n",
        "# test_dataset=CustomDataSet(x_val,y_val)\n",
        "# test_loader = iter(DataLoader([x_val,y_val], batch_size=32))\n",
        "\n",
        "\n",
        "\n",
        "\n",
        "  "
      ],
      "execution_count": null,
      "outputs": []
    },
    {
      "cell_type": "code",
      "metadata": {
        "colab": {
          "base_uri": "https://localhost:8080/"
        },
        "id": "1u0v6ReNOjXy",
        "outputId": "68646028-9132-4d4d-f880-60952db556a0"
      },
      "source": [
        "h,w=x_train.shape[2:4]\n",
        "x_train.shape"
      ],
      "execution_count": null,
      "outputs": [
        {
          "output_type": "execute_result",
          "data": {
            "text/plain": [
              "(2586, 26, 34, 1)"
            ]
          },
          "metadata": {},
          "execution_count": 136
        }
      ]
    },
    {
      "cell_type": "code",
      "metadata": {
        "id": "1hGgbarYpX6U"
      },
      "source": [
        "class Net(torch.nn.Module):   \n",
        "    def __init__(self,input_dim):\n",
        "        super(Net, self).__init__()\n",
        "\n",
        "        self.cnn_layers = Sequential(\n",
        "            # Defining a 2D convolution layer\n",
        "            Conv2d(1, 16, kernel_size=3, stride=1, padding=1),\n",
        "            BatchNorm2d(16),\n",
        "            ReLU(inplace=True),\n",
        "            MaxPool2d(kernel_size=2, stride=2),\n",
        "            # Defining another 2D convolution layer\n",
        "            Conv2d(4, 32, kernel_size=3, stride=1, padding=1),\n",
        "            BatchNorm2d(32),\n",
        "            ReLU(inplace=True),\n",
        "            MaxPool2d(kernel_size=2, stride=2),\n",
        "        )\n",
        "        num_features_before_fcnn = functools.reduce(operator.mul, list(self.cnn_layers(torch.rand(1, (*input_dim))).shape))\n",
        "        self.linear_layers = Sequential(\n",
        "            Linear(4 * 7 * 7, 10)\n",
        "        )\n",
        "\n",
        "    # Defining the forward pass    \n",
        "    def forward(self, x):\n",
        "        x = self.cnn_layers(x)\n",
        "        x = x.view(x.size(0), -1)\n",
        "        x = self.linear_layers(x)\n",
        "        return x"
      ],
      "execution_count": null,
      "outputs": []
    }
  ]
}